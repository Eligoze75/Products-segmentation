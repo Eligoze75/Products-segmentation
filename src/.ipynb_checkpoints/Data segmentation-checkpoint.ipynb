{
 "cells": [
  {
   "cell_type": "markdown",
   "metadata": {},
   "source": [
    "# Products segmentation. "
   ]
  },
  {
   "cell_type": "markdown",
   "metadata": {},
   "source": [
    "### Libraries:"
   ]
  },
  {
   "cell_type": "code",
   "execution_count": 1,
   "metadata": {
    "ExecuteTime": {
     "end_time": "2020-07-20T03:21:43.640276Z",
     "start_time": "2020-07-20T03:21:42.983797Z"
    }
   },
   "outputs": [],
   "source": [
    "import pandas as pd\n",
    "import numpy as np\n",
    "import matplotlib.pyplot as plt\n",
    "import os\n",
    "#ML libraries\n",
    "from sklearn.mixture import GaussianMixture\n",
    "from sklearn.cluster import KMeans\n",
    "\n",
    "#Save model\n",
    "import pickle"
   ]
  },
  {
   "cell_type": "markdown",
   "metadata": {},
   "source": [
    "## Data collecting & cleansing:"
   ]
  },
  {
   "cell_type": "code",
   "execution_count": 3,
   "metadata": {
    "ExecuteTime": {
     "end_time": "2020-07-20T03:21:46.826811Z",
     "start_time": "2020-07-20T03:21:46.824073Z"
    }
   },
   "outputs": [],
   "source": [
    "PATH = os.getcwd() + '/'"
   ]
  },
  {
   "cell_type": "markdown",
   "metadata": {},
   "source": [
    "### FTP Data:"
   ]
  },
  {
   "cell_type": "code",
   "execution_count": 4,
   "metadata": {
    "ExecuteTime": {
     "end_time": "2020-07-20T03:21:49.540348Z",
     "start_time": "2020-07-20T03:21:49.517140Z"
    }
   },
   "outputs": [
    {
     "name": "stdout",
     "output_type": "stream",
     "text": [
      "(5527, 7)\n"
     ]
    },
    {
     "data": {
      "text/html": [
       "<div>\n",
       "<style scoped>\n",
       "    .dataframe tbody tr th:only-of-type {\n",
       "        vertical-align: middle;\n",
       "    }\n",
       "\n",
       "    .dataframe tbody tr th {\n",
       "        vertical-align: top;\n",
       "    }\n",
       "\n",
       "    .dataframe thead th {\n",
       "        text-align: right;\n",
       "    }\n",
       "</style>\n",
       "<table border=\"1\" class=\"dataframe\">\n",
       "  <thead>\n",
       "    <tr style=\"text-align: right;\">\n",
       "      <th></th>\n",
       "      <th>FECHA</th>\n",
       "      <th>DESC_CATEGORIA</th>\n",
       "      <th>ID_ARTICULO</th>\n",
       "      <th>DESC_ARTICULO</th>\n",
       "      <th>PRECIO_PUBLICO</th>\n",
       "      <th>INVENTARIO_UNIDADES</th>\n",
       "      <th>VENTA_PROM_UNIDADES</th>\n",
       "    </tr>\n",
       "  </thead>\n",
       "  <tbody>\n",
       "    <tr>\n",
       "      <th>0</th>\n",
       "      <td>20200326</td>\n",
       "      <td>Dulces</td>\n",
       "      <td>100152403</td>\n",
       "      <td>KINDER CHOCOL BUENO 43GR</td>\n",
       "      <td>30.0</td>\n",
       "      <td>36.0</td>\n",
       "      <td>1.1071</td>\n",
       "    </tr>\n",
       "    <tr>\n",
       "      <th>5</th>\n",
       "      <td>20200326</td>\n",
       "      <td>Dulces</td>\n",
       "      <td>100154881</td>\n",
       "      <td>PALERRICA PALETA TAMARINDO 100GR</td>\n",
       "      <td>14.0</td>\n",
       "      <td>9.0</td>\n",
       "      <td>0.0000</td>\n",
       "    </tr>\n",
       "    <tr>\n",
       "      <th>6</th>\n",
       "      <td>20200326</td>\n",
       "      <td>Dulces</td>\n",
       "      <td>100154984</td>\n",
       "      <td>JOLLY RANCHE CARAME MACIZO 34.2G</td>\n",
       "      <td>9.0</td>\n",
       "      <td>7.0</td>\n",
       "      <td>0.3929</td>\n",
       "    </tr>\n",
       "    <tr>\n",
       "      <th>10</th>\n",
       "      <td>20200326</td>\n",
       "      <td>Botanas</td>\n",
       "      <td>100164604</td>\n",
       "      <td>PRINGLES PAPAS QUESO 40GR</td>\n",
       "      <td>18.0</td>\n",
       "      <td>15.0</td>\n",
       "      <td>0.2500</td>\n",
       "    </tr>\n",
       "    <tr>\n",
       "      <th>13</th>\n",
       "      <td>20200326</td>\n",
       "      <td>Botanas</td>\n",
       "      <td>100164624</td>\n",
       "      <td>FRUBOTANA FRUTA UVA PASA MIX 30GR</td>\n",
       "      <td>19.5</td>\n",
       "      <td>5.0</td>\n",
       "      <td>0.2500</td>\n",
       "    </tr>\n",
       "  </tbody>\n",
       "</table>\n",
       "</div>"
      ],
      "text/plain": [
       "       FECHA DESC_CATEGORIA ID_ARTICULO                      DESC_ARTICULO  \\\n",
       "0   20200326         Dulces   100152403           KINDER CHOCOL BUENO 43GR   \n",
       "5   20200326         Dulces   100154881   PALERRICA PALETA TAMARINDO 100GR   \n",
       "6   20200326         Dulces   100154984   JOLLY RANCHE CARAME MACIZO 34.2G   \n",
       "10  20200326        Botanas   100164604          PRINGLES PAPAS QUESO 40GR   \n",
       "13  20200326        Botanas   100164624  FRUBOTANA FRUTA UVA PASA MIX 30GR   \n",
       "\n",
       "    PRECIO_PUBLICO  INVENTARIO_UNIDADES  VENTA_PROM_UNIDADES  \n",
       "0             30.0                 36.0               1.1071  \n",
       "5             14.0                  9.0               0.0000  \n",
       "6              9.0                  7.0               0.3929  \n",
       "10            18.0                 15.0               0.2500  \n",
       "13            19.5                  5.0               0.2500  "
      ]
     },
     "execution_count": 4,
     "metadata": {},
     "output_type": "execute_result"
    }
   ],
   "source": [
    "# load FTP data from disk\n",
    "filename = 'Data_Entrenamiento_Daily.sav'\n",
    "\n",
    "Stores_data = pickle.load(open('docs/' + filename, 'rb'))\n",
    "\n",
    "Stores_drp = ['PLAZA','TIENDA','FORMATO_TIENDA','ID_TIENDA']\n",
    "Stores_data = Stores_data.drop(columns = Stores_drp)\n",
    "\n",
    "print(Stores_data.shape)\n",
    "Stores_data.head()"
   ]
  },
  {
   "cell_type": "code",
   "execution_count": 5,
   "metadata": {
    "ExecuteTime": {
     "end_time": "2020-07-20T03:21:51.963792Z",
     "start_time": "2020-07-20T03:21:51.913116Z"
    }
   },
   "outputs": [],
   "source": [
    "#Giving formats \n",
    "Stores_data.FECHA = pd.to_datetime(Stores_data.FECHA,infer_datetime_format=True)\n",
    "Stores_data.FECHA = Stores_data.FECHA.apply(lambda t: t.strftime('%Y-%m-%d'))\n",
    "Stores_data.ID_ARTICULO = Stores_data.ID_ARTICULO.astype(str)"
   ]
  },
  {
   "cell_type": "markdown",
   "metadata": {},
   "source": [
    "#### Normalizing data"
   ]
  },
  {
   "cell_type": "code",
   "execution_count": 7,
   "metadata": {
    "ExecuteTime": {
     "end_time": "2020-07-20T03:21:56.513714Z",
     "start_time": "2020-07-20T03:21:56.504924Z"
    }
   },
   "outputs": [
    {
     "data": {
      "text/plain": [
       "Abarrotes Comestibles              18.074905\n",
       "Aguas                              13.461191\n",
       "Botanas                            12.520355\n",
       "Abarrotes No Comestibles           10.475846\n",
       "Cerveza                             9.462638\n",
       "Café                                9.372173\n",
       "Vinos y Licores                     7.725710\n",
       "Dulces                              5.934503\n",
       "Cigarros                            2.967252\n",
       "Refrescos                           2.623485\n",
       "Pan Dulce                           2.134974\n",
       "Periódicos                          1.447440\n",
       "Revistas                            1.356975\n",
       "RRPs (Vapor y tabaco calentado)     1.356975\n",
       "Snacks                              1.085580\n",
       "Name: DESC_CATEGORIA, dtype: float64"
      ]
     },
     "execution_count": 7,
     "metadata": {},
     "output_type": "execute_result"
    }
   ],
   "source": [
    "(Stores_data.DESC_CATEGORIA.value_counts() / Stores_data.shape[0]) * 100"
   ]
  },
  {
   "cell_type": "markdown",
   "metadata": {},
   "source": [
    "We are only using categories above 5%, the rest will be colapsed into a new category: **Others**."
   ]
  },
  {
   "cell_type": "code",
   "execution_count": 8,
   "metadata": {
    "ExecuteTime": {
     "end_time": "2020-07-20T03:21:59.981760Z",
     "start_time": "2020-07-20T03:21:59.975486Z"
    }
   },
   "outputs": [],
   "source": [
    "Otros = ['Cigarros','Refrescos','Pan Dulce','Periódicos','RRPs (Vapor y tabaco calentado)',\n",
    "        'Revistas','Snacks']\n",
    "Stores_data.loc[Stores_data.DESC_CATEGORIA.isin(Otros),'DESC_CATEGORIA'] = 'Otros'"
   ]
  },
  {
   "cell_type": "code",
   "execution_count": 9,
   "metadata": {
    "ExecuteTime": {
     "end_time": "2020-07-20T03:22:16.602723Z",
     "start_time": "2020-07-20T03:22:16.570890Z"
    }
   },
   "outputs": [
    {
     "data": {
      "text/html": [
       "<div>\n",
       "<style scoped>\n",
       "    .dataframe tbody tr th:only-of-type {\n",
       "        vertical-align: middle;\n",
       "    }\n",
       "\n",
       "    .dataframe tbody tr th {\n",
       "        vertical-align: top;\n",
       "    }\n",
       "\n",
       "    .dataframe thead th {\n",
       "        text-align: right;\n",
       "    }\n",
       "</style>\n",
       "<table border=\"1\" class=\"dataframe\">\n",
       "  <thead>\n",
       "    <tr style=\"text-align: right;\">\n",
       "      <th></th>\n",
       "      <th>FECHA</th>\n",
       "      <th>DESC_CATEGORIA</th>\n",
       "      <th>ID_ARTICULO</th>\n",
       "      <th>DESC_ARTICULO</th>\n",
       "      <th>PRECIO_mn</th>\n",
       "      <th>INVENTARIO_mn</th>\n",
       "      <th>VENTA_AVG_UNIDADES_mn</th>\n",
       "    </tr>\n",
       "  </thead>\n",
       "  <tbody>\n",
       "    <tr>\n",
       "      <th>0</th>\n",
       "      <td>2020-03-26</td>\n",
       "      <td>Abarrotes Comestibles</td>\n",
       "      <td>100061762</td>\n",
       "      <td>MCCORMICK MERMEL FRESA 270GR</td>\n",
       "      <td>27.500000</td>\n",
       "      <td>3.888889</td>\n",
       "      <td>0.134911</td>\n",
       "    </tr>\n",
       "    <tr>\n",
       "      <th>1</th>\n",
       "      <td>2020-03-26</td>\n",
       "      <td>Abarrotes Comestibles</td>\n",
       "      <td>100062020</td>\n",
       "      <td>GERBER JUGO D MANZANA 175ML</td>\n",
       "      <td>14.500000</td>\n",
       "      <td>2.333333</td>\n",
       "      <td>0.023800</td>\n",
       "    </tr>\n",
       "    <tr>\n",
       "      <th>2</th>\n",
       "      <td>2020-03-26</td>\n",
       "      <td>Abarrotes Comestibles</td>\n",
       "      <td>100062129</td>\n",
       "      <td>HELLMANNS MAYONE CON LIMON 190GR</td>\n",
       "      <td>21.650000</td>\n",
       "      <td>3.600000</td>\n",
       "      <td>0.128570</td>\n",
       "    </tr>\n",
       "    <tr>\n",
       "      <th>3</th>\n",
       "      <td>2020-03-26</td>\n",
       "      <td>Abarrotes Comestibles</td>\n",
       "      <td>100062241</td>\n",
       "      <td>KARO MIEL MAPLE 250ML</td>\n",
       "      <td>29.000000</td>\n",
       "      <td>3.444444</td>\n",
       "      <td>0.111100</td>\n",
       "    </tr>\n",
       "    <tr>\n",
       "      <th>4</th>\n",
       "      <td>2020-03-26</td>\n",
       "      <td>Abarrotes Comestibles</td>\n",
       "      <td>100062323</td>\n",
       "      <td>TUNY ATUN ACEITE 140GR</td>\n",
       "      <td>19.500000</td>\n",
       "      <td>7.363636</td>\n",
       "      <td>0.159091</td>\n",
       "    </tr>\n",
       "    <tr>\n",
       "      <th>...</th>\n",
       "      <td>...</td>\n",
       "      <td>...</td>\n",
       "      <td>...</td>\n",
       "      <td>...</td>\n",
       "      <td>...</td>\n",
       "      <td>...</td>\n",
       "      <td>...</td>\n",
       "    </tr>\n",
       "    <tr>\n",
       "      <th>790</th>\n",
       "      <td>2020-04-09</td>\n",
       "      <td>Vinos y Licores</td>\n",
       "      <td>100260496</td>\n",
       "      <td>MEZCALITO TONAYA 960 ML</td>\n",
       "      <td>22.416667</td>\n",
       "      <td>6.333333</td>\n",
       "      <td>0.416667</td>\n",
       "    </tr>\n",
       "    <tr>\n",
       "      <th>791</th>\n",
       "      <td>2020-04-09</td>\n",
       "      <td>Vinos y Licores</td>\n",
       "      <td>100260569</td>\n",
       "      <td>GATILLERO RON CON COLA 340ML</td>\n",
       "      <td>22.000000</td>\n",
       "      <td>13.500000</td>\n",
       "      <td>0.571417</td>\n",
       "    </tr>\n",
       "    <tr>\n",
       "      <th>792</th>\n",
       "      <td>2020-04-09</td>\n",
       "      <td>Vinos y Licores</td>\n",
       "      <td>100260810</td>\n",
       "      <td>GRAND DOUGLAS WHISKY 750ML</td>\n",
       "      <td>155.666667</td>\n",
       "      <td>2.500000</td>\n",
       "      <td>0.017850</td>\n",
       "    </tr>\n",
       "    <tr>\n",
       "      <th>793</th>\n",
       "      <td>2020-04-09</td>\n",
       "      <td>Vinos y Licores</td>\n",
       "      <td>100260893</td>\n",
       "      <td>DOLCE AMORE LAMBRUSCO VINO TINTO 750ML</td>\n",
       "      <td>143.666667</td>\n",
       "      <td>1.666667</td>\n",
       "      <td>0.083333</td>\n",
       "    </tr>\n",
       "    <tr>\n",
       "      <th>794</th>\n",
       "      <td>2020-04-09</td>\n",
       "      <td>Vinos y Licores</td>\n",
       "      <td>100260905</td>\n",
       "      <td>MATUSALEM PLATINO RON 750ML</td>\n",
       "      <td>235.000000</td>\n",
       "      <td>3.166667</td>\n",
       "      <td>0.095233</td>\n",
       "    </tr>\n",
       "  </tbody>\n",
       "</table>\n",
       "<p>795 rows × 7 columns</p>\n",
       "</div>"
      ],
      "text/plain": [
       "          FECHA         DESC_CATEGORIA ID_ARTICULO  \\\n",
       "0    2020-03-26  Abarrotes Comestibles   100061762   \n",
       "1    2020-03-26  Abarrotes Comestibles   100062020   \n",
       "2    2020-03-26  Abarrotes Comestibles   100062129   \n",
       "3    2020-03-26  Abarrotes Comestibles   100062241   \n",
       "4    2020-03-26  Abarrotes Comestibles   100062323   \n",
       "..          ...                    ...         ...   \n",
       "790  2020-04-09        Vinos y Licores   100260496   \n",
       "791  2020-04-09        Vinos y Licores   100260569   \n",
       "792  2020-04-09        Vinos y Licores   100260810   \n",
       "793  2020-04-09        Vinos y Licores   100260893   \n",
       "794  2020-04-09        Vinos y Licores   100260905   \n",
       "\n",
       "                              DESC_ARTICULO   PRECIO_mn  INVENTARIO_mn  \\\n",
       "0              MCCORMICK MERMEL FRESA 270GR   27.500000       3.888889   \n",
       "1               GERBER JUGO D MANZANA 175ML   14.500000       2.333333   \n",
       "2          HELLMANNS MAYONE CON LIMON 190GR   21.650000       3.600000   \n",
       "3                     KARO MIEL MAPLE 250ML   29.000000       3.444444   \n",
       "4                    TUNY ATUN ACEITE 140GR   19.500000       7.363636   \n",
       "..                                      ...         ...            ...   \n",
       "790                 MEZCALITO TONAYA 960 ML   22.416667       6.333333   \n",
       "791            GATILLERO RON CON COLA 340ML   22.000000      13.500000   \n",
       "792              GRAND DOUGLAS WHISKY 750ML  155.666667       2.500000   \n",
       "793  DOLCE AMORE LAMBRUSCO VINO TINTO 750ML  143.666667       1.666667   \n",
       "794             MATUSALEM PLATINO RON 750ML  235.000000       3.166667   \n",
       "\n",
       "     VENTA_AVG_UNIDADES_mn  \n",
       "0                 0.134911  \n",
       "1                 0.023800  \n",
       "2                 0.128570  \n",
       "3                 0.111100  \n",
       "4                 0.159091  \n",
       "..                     ...  \n",
       "790               0.416667  \n",
       "791               0.571417  \n",
       "792               0.017850  \n",
       "793               0.083333  \n",
       "794               0.095233  \n",
       "\n",
       "[795 rows x 7 columns]"
      ]
     },
     "execution_count": 9,
     "metadata": {},
     "output_type": "execute_result"
    }
   ],
   "source": [
    "#Grouping \n",
    "Stores_data = Stores_data.groupby(['FECHA','DESC_CATEGORIA','ID_ARTICULO','DESC_ARTICULO']\n",
    "                           ).agg({'PRECIO_PUBLICO':['mean'],'INVENTARIO_UNIDADES':['mean'],\n",
    "                                  'VENTA_PROM_UNIDADES': ['mean']})\n",
    "\n",
    "Stores_data.columns = ['PRECIO_mn','INVENTARIO_mn','VENTA_AVG_UNIDADES_mn']\n",
    "                    \n",
    "Stores_data.reset_index(inplace = True)\n",
    "Stores_data"
   ]
  },
  {
   "cell_type": "markdown",
   "metadata": {},
   "source": [
    "### STOT\n",
    "Stockouts data."
   ]
  },
  {
   "cell_type": "code",
   "execution_count": 13,
   "metadata": {
    "ExecuteTime": {
     "end_time": "2020-07-20T03:25:24.662875Z",
     "start_time": "2020-07-20T03:25:24.059888Z"
    }
   },
   "outputs": [
    {
     "name": "stdout",
     "output_type": "stream",
     "text": [
      "(505933, 9)\n"
     ]
    },
    {
     "data": {
      "text/html": [
       "<div>\n",
       "<style scoped>\n",
       "    .dataframe tbody tr th:only-of-type {\n",
       "        vertical-align: middle;\n",
       "    }\n",
       "\n",
       "    .dataframe tbody tr th {\n",
       "        vertical-align: top;\n",
       "    }\n",
       "\n",
       "    .dataframe thead th {\n",
       "        text-align: right;\n",
       "    }\n",
       "</style>\n",
       "<table border=\"1\" class=\"dataframe\">\n",
       "  <thead>\n",
       "    <tr style=\"text-align: right;\">\n",
       "      <th></th>\n",
       "      <th>product_id</th>\n",
       "      <th>order_date</th>\n",
       "      <th>product_name</th>\n",
       "      <th>internal_id</th>\n",
       "      <th>stockout</th>\n",
       "      <th>unit_price</th>\n",
       "      <th>is_available</th>\n",
       "      <th>is_discontinued</th>\n",
       "      <th>total_price</th>\n",
       "    </tr>\n",
       "  </thead>\n",
       "  <tbody>\n",
       "    <tr>\n",
       "      <th>0</th>\n",
       "      <td>976485207</td>\n",
       "      <td>2020-03-30 11:47:14+00:00</td>\n",
       "      <td>Nestle Nescafe Decaf 48Gr</td>\n",
       "      <td>100062533</td>\n",
       "      <td>1</td>\n",
       "      <td>46.75</td>\n",
       "      <td>False</td>\n",
       "      <td>False</td>\n",
       "      <td>46.75</td>\n",
       "    </tr>\n",
       "    <tr>\n",
       "      <th>1</th>\n",
       "      <td>976486611</td>\n",
       "      <td>2020-03-25 19:44:24+00:00</td>\n",
       "      <td>Apothic Vino Tinto 750 mL</td>\n",
       "      <td>100014318</td>\n",
       "      <td>1</td>\n",
       "      <td>328.00</td>\n",
       "      <td>False</td>\n",
       "      <td>True</td>\n",
       "      <td>656.00</td>\n",
       "    </tr>\n",
       "    <tr>\n",
       "      <th>2</th>\n",
       "      <td>976486611</td>\n",
       "      <td>2020-04-15 22:07:26+00:00</td>\n",
       "      <td>Apothic Vino Tinto 750 mL</td>\n",
       "      <td>100014318</td>\n",
       "      <td>1</td>\n",
       "      <td>319.00</td>\n",
       "      <td>False</td>\n",
       "      <td>True</td>\n",
       "      <td>319.00</td>\n",
       "    </tr>\n",
       "    <tr>\n",
       "      <th>3</th>\n",
       "      <td>976485360</td>\n",
       "      <td>2020-04-23 10:13:17+00:00</td>\n",
       "      <td>Refresco Fanta Naranja Pet 2.5 L</td>\n",
       "      <td>100110915</td>\n",
       "      <td>1</td>\n",
       "      <td>34.65</td>\n",
       "      <td>False</td>\n",
       "      <td>False</td>\n",
       "      <td>34.65</td>\n",
       "    </tr>\n",
       "    <tr>\n",
       "      <th>4</th>\n",
       "      <td>976485612</td>\n",
       "      <td>2020-04-13 18:34:21+00:00</td>\n",
       "      <td>Azteca Mazapa 30 G</td>\n",
       "      <td>100150144</td>\n",
       "      <td>1</td>\n",
       "      <td>6.00</td>\n",
       "      <td>True</td>\n",
       "      <td>False</td>\n",
       "      <td>24.00</td>\n",
       "    </tr>\n",
       "  </tbody>\n",
       "</table>\n",
       "</div>"
      ],
      "text/plain": [
       "   product_id                 order_date                      product_name  \\\n",
       "0   976485207  2020-03-30 11:47:14+00:00         Nestle Nescafe Decaf 48Gr   \n",
       "1   976486611  2020-03-25 19:44:24+00:00         Apothic Vino Tinto 750 mL   \n",
       "2   976486611  2020-04-15 22:07:26+00:00         Apothic Vino Tinto 750 mL   \n",
       "3   976485360  2020-04-23 10:13:17+00:00  Refresco Fanta Naranja Pet 2.5 L   \n",
       "4   976485612  2020-04-13 18:34:21+00:00                Azteca Mazapa 30 G   \n",
       "\n",
       "  internal_id  stockout  unit_price  is_available  is_discontinued  \\\n",
       "0   100062533         1       46.75         False            False   \n",
       "1   100014318         1      328.00         False             True   \n",
       "2   100014318         1      319.00         False             True   \n",
       "3   100110915         1       34.65         False            False   \n",
       "4   100150144         1        6.00          True            False   \n",
       "\n",
       "   total_price  \n",
       "0        46.75  \n",
       "1       656.00  \n",
       "2       319.00  \n",
       "3        34.65  \n",
       "4        24.00  "
      ]
     },
     "execution_count": 13,
     "metadata": {},
     "output_type": "execute_result"
    }
   ],
   "source": [
    "STOT = pd.read_csv('docs/STOT_v2.csv')\n",
    "STOT.columns = ['product_id', 'order_date', 'product_name', 'internal_id', 'stockout',\n",
    "       'unit_price', 'is_available', 'is_discontinued', 'total_price']\n",
    "\n",
    "print(STOT.shape)\n",
    "STOT.head()"
   ]
  },
  {
   "cell_type": "code",
   "execution_count": 15,
   "metadata": {
    "ExecuteTime": {
     "end_time": "2020-07-20T03:26:23.345191Z",
     "start_time": "2020-07-20T03:26:19.887186Z"
    }
   },
   "outputs": [
    {
     "data": {
      "text/html": [
       "<div>\n",
       "<style scoped>\n",
       "    .dataframe tbody tr th:only-of-type {\n",
       "        vertical-align: middle;\n",
       "    }\n",
       "\n",
       "    .dataframe tbody tr th {\n",
       "        vertical-align: top;\n",
       "    }\n",
       "\n",
       "    .dataframe thead th {\n",
       "        text-align: right;\n",
       "    }\n",
       "</style>\n",
       "<table border=\"1\" class=\"dataframe\">\n",
       "  <thead>\n",
       "    <tr style=\"text-align: right;\">\n",
       "      <th></th>\n",
       "      <th>product_id</th>\n",
       "      <th>order_date</th>\n",
       "      <th>product_name</th>\n",
       "      <th>internal_id</th>\n",
       "      <th>stockout</th>\n",
       "      <th>unit_price</th>\n",
       "      <th>is_available</th>\n",
       "      <th>is_discontinued</th>\n",
       "      <th>total_price</th>\n",
       "    </tr>\n",
       "  </thead>\n",
       "  <tbody>\n",
       "    <tr>\n",
       "      <th>0</th>\n",
       "      <td>976485207</td>\n",
       "      <td>2020-03-30</td>\n",
       "      <td>Nestle Nescafe Decaf 48Gr</td>\n",
       "      <td>100062533</td>\n",
       "      <td>1</td>\n",
       "      <td>46.75</td>\n",
       "      <td>False</td>\n",
       "      <td>False</td>\n",
       "      <td>46.75</td>\n",
       "    </tr>\n",
       "    <tr>\n",
       "      <th>1</th>\n",
       "      <td>976486611</td>\n",
       "      <td>2020-03-25</td>\n",
       "      <td>Apothic Vino Tinto 750 mL</td>\n",
       "      <td>100014318</td>\n",
       "      <td>1</td>\n",
       "      <td>328.00</td>\n",
       "      <td>False</td>\n",
       "      <td>True</td>\n",
       "      <td>656.00</td>\n",
       "    </tr>\n",
       "    <tr>\n",
       "      <th>2</th>\n",
       "      <td>976486611</td>\n",
       "      <td>2020-04-15</td>\n",
       "      <td>Apothic Vino Tinto 750 mL</td>\n",
       "      <td>100014318</td>\n",
       "      <td>1</td>\n",
       "      <td>319.00</td>\n",
       "      <td>False</td>\n",
       "      <td>True</td>\n",
       "      <td>319.00</td>\n",
       "    </tr>\n",
       "    <tr>\n",
       "      <th>3</th>\n",
       "      <td>976485360</td>\n",
       "      <td>2020-04-23</td>\n",
       "      <td>Refresco Fanta Naranja Pet 2.5 L</td>\n",
       "      <td>100110915</td>\n",
       "      <td>1</td>\n",
       "      <td>34.65</td>\n",
       "      <td>False</td>\n",
       "      <td>False</td>\n",
       "      <td>34.65</td>\n",
       "    </tr>\n",
       "    <tr>\n",
       "      <th>4</th>\n",
       "      <td>976485612</td>\n",
       "      <td>2020-04-13</td>\n",
       "      <td>Azteca Mazapa 30 G</td>\n",
       "      <td>100150144</td>\n",
       "      <td>1</td>\n",
       "      <td>6.00</td>\n",
       "      <td>True</td>\n",
       "      <td>False</td>\n",
       "      <td>24.00</td>\n",
       "    </tr>\n",
       "  </tbody>\n",
       "</table>\n",
       "</div>"
      ],
      "text/plain": [
       "   product_id  order_date                      product_name internal_id  \\\n",
       "0   976485207  2020-03-30         Nestle Nescafe Decaf 48Gr   100062533   \n",
       "1   976486611  2020-03-25         Apothic Vino Tinto 750 mL   100014318   \n",
       "2   976486611  2020-04-15         Apothic Vino Tinto 750 mL   100014318   \n",
       "3   976485360  2020-04-23  Refresco Fanta Naranja Pet 2.5 L   100110915   \n",
       "4   976485612  2020-04-13                Azteca Mazapa 30 G   100150144   \n",
       "\n",
       "   stockout  unit_price  is_available  is_discontinued  total_price  \n",
       "0         1       46.75         False            False        46.75  \n",
       "1         1      328.00         False             True       656.00  \n",
       "2         1      319.00         False             True       319.00  \n",
       "3         1       34.65         False            False        34.65  \n",
       "4         1        6.00          True            False        24.00  "
      ]
     },
     "execution_count": 15,
     "metadata": {},
     "output_type": "execute_result"
    }
   ],
   "source": [
    "#Giving formats\n",
    "STOT.order_date = pd.to_datetime(STOT.order_date,infer_datetime_format=True)\n",
    "STOT.order_date = STOT.order_date.apply(lambda t: t.strftime('%Y-%m-%d'))\n",
    "STOT.internal_id = STOT.internal_id.astype(str)\n",
    "STOT.head()"
   ]
  },
  {
   "cell_type": "code",
   "execution_count": 16,
   "metadata": {
    "ExecuteTime": {
     "end_time": "2020-07-20T03:26:31.861151Z",
     "start_time": "2020-07-20T03:26:31.401455Z"
    },
    "cell_style": "center"
   },
   "outputs": [
    {
     "data": {
      "text/plain": [
       "0.021929781216089878"
      ]
     },
     "execution_count": 16,
     "metadata": {},
     "output_type": "execute_result"
    }
   ],
   "source": [
    "#There are packed beverages (6pack, 12pack)\n",
    "STOT.loc[(STOT.internal_id.str.contains('_6')) | (STOT.internal_id.str.contains('_12'))].shape[0] / STOT.shape[0]"
   ]
  },
  {
   "cell_type": "code",
   "execution_count": 17,
   "metadata": {
    "ExecuteTime": {
     "end_time": "2020-07-20T03:26:44.543184Z",
     "start_time": "2020-07-20T03:26:44.067495Z"
    }
   },
   "outputs": [],
   "source": [
    "#Create another column: 'Units per sell'\n",
    "STOT['units_sold'] = STOT['total_price'] / STOT['unit_price']\n",
    "#Now we want to transform packages to units:\n",
    "STOT.loc[STOT.internal_id.str.contains('_6'),'units_sold'] = STOT['units_sold'] * 6\n",
    "STOT.loc[STOT.internal_id.str.contains('_12'),'units_sold'] = STOT['units_sold'] * 12"
   ]
  },
  {
   "cell_type": "code",
   "execution_count": 18,
   "metadata": {
    "ExecuteTime": {
     "end_time": "2020-07-20T03:26:48.103497Z",
     "start_time": "2020-07-20T03:26:46.851129Z"
    }
   },
   "outputs": [],
   "source": [
    "#Now we replace _12 & _6 suffixes\n",
    "STOT.internal_id.replace('_6','',regex=True,inplace=True)\n",
    "STOT.internal_id.replace('_12','',regex=True,inplace=True)"
   ]
  },
  {
   "cell_type": "code",
   "execution_count": 19,
   "metadata": {
    "ExecuteTime": {
     "end_time": "2020-07-20T03:26:55.653819Z",
     "start_time": "2020-07-20T03:26:55.362960Z"
    }
   },
   "outputs": [],
   "source": [
    "#Drop combos (rc)\n",
    "ind_drp = STOT.loc[STOT.internal_id.str.contains('rc_')].index\n",
    "STOT.drop(index=ind_drp)\n",
    "STOT.reset_index(inplace = True,drop = True)"
   ]
  },
  {
   "cell_type": "code",
   "execution_count": 20,
   "metadata": {
    "ExecuteTime": {
     "end_time": "2020-07-20T03:26:59.710461Z",
     "start_time": "2020-07-20T03:26:59.562752Z"
    }
   },
   "outputs": [],
   "source": [
    "#Group by\n",
    "STOT = STOT.groupby(['order_date','internal_id']\n",
    "                   ).agg({'unit_price':['mean'],'total_price':['mean'],'units_sold': ['sum']})\n",
    "STOT.columns = ['unit_price_mn','total_price_mn','units_sold_sum']\n",
    "                    \n",
    "STOT.reset_index(inplace = True)"
   ]
  },
  {
   "cell_type": "code",
   "execution_count": 21,
   "metadata": {
    "ExecuteTime": {
     "end_time": "2020-07-20T03:27:00.556082Z",
     "start_time": "2020-07-20T03:27:00.546261Z"
    }
   },
   "outputs": [
    {
     "data": {
      "text/html": [
       "<div>\n",
       "<style scoped>\n",
       "    .dataframe tbody tr th:only-of-type {\n",
       "        vertical-align: middle;\n",
       "    }\n",
       "\n",
       "    .dataframe tbody tr th {\n",
       "        vertical-align: top;\n",
       "    }\n",
       "\n",
       "    .dataframe thead th {\n",
       "        text-align: right;\n",
       "    }\n",
       "</style>\n",
       "<table border=\"1\" class=\"dataframe\">\n",
       "  <thead>\n",
       "    <tr style=\"text-align: right;\">\n",
       "      <th></th>\n",
       "      <th>order_date</th>\n",
       "      <th>internal_id</th>\n",
       "      <th>unit_price_mn</th>\n",
       "      <th>total_price_mn</th>\n",
       "      <th>units_sold_sum</th>\n",
       "    </tr>\n",
       "  </thead>\n",
       "  <tbody>\n",
       "    <tr>\n",
       "      <th>0</th>\n",
       "      <td>2020-03-23</td>\n",
       "      <td>100000000003319</td>\n",
       "      <td>102.000000</td>\n",
       "      <td>116.068966</td>\n",
       "      <td>33.0</td>\n",
       "    </tr>\n",
       "    <tr>\n",
       "      <th>1</th>\n",
       "      <td>2020-03-23</td>\n",
       "      <td>10000014772</td>\n",
       "      <td>182.000000</td>\n",
       "      <td>182.000000</td>\n",
       "      <td>1.0</td>\n",
       "    </tr>\n",
       "    <tr>\n",
       "      <th>2</th>\n",
       "      <td>2020-03-23</td>\n",
       "      <td>100003109</td>\n",
       "      <td>44.708333</td>\n",
       "      <td>44.708333</td>\n",
       "      <td>6.0</td>\n",
       "    </tr>\n",
       "    <tr>\n",
       "      <th>3</th>\n",
       "      <td>2020-03-23</td>\n",
       "      <td>100004048</td>\n",
       "      <td>69.300000</td>\n",
       "      <td>69.300000</td>\n",
       "      <td>1.0</td>\n",
       "    </tr>\n",
       "    <tr>\n",
       "      <th>4</th>\n",
       "      <td>2020-03-23</td>\n",
       "      <td>100004098</td>\n",
       "      <td>71.500000</td>\n",
       "      <td>107.250000</td>\n",
       "      <td>3.0</td>\n",
       "    </tr>\n",
       "  </tbody>\n",
       "</table>\n",
       "</div>"
      ],
      "text/plain": [
       "   order_date      internal_id  unit_price_mn  total_price_mn  units_sold_sum\n",
       "0  2020-03-23  100000000003319     102.000000      116.068966            33.0\n",
       "1  2020-03-23      10000014772     182.000000      182.000000             1.0\n",
       "2  2020-03-23        100003109      44.708333       44.708333             6.0\n",
       "3  2020-03-23        100004048      69.300000       69.300000             1.0\n",
       "4  2020-03-23        100004098      71.500000      107.250000             3.0"
      ]
     },
     "execution_count": 21,
     "metadata": {},
     "output_type": "execute_result"
    }
   ],
   "source": [
    "STOT.head()"
   ]
  },
  {
   "cell_type": "markdown",
   "metadata": {},
   "source": [
    "### Merging data."
   ]
  },
  {
   "cell_type": "code",
   "execution_count": 22,
   "metadata": {
    "ExecuteTime": {
     "end_time": "2020-07-20T03:27:06.878122Z",
     "start_time": "2020-07-20T03:27:06.842321Z"
    }
   },
   "outputs": [
    {
     "name": "stdout",
     "output_type": "stream",
     "text": [
      "(401, 12)\n"
     ]
    },
    {
     "data": {
      "text/html": [
       "<div>\n",
       "<style scoped>\n",
       "    .dataframe tbody tr th:only-of-type {\n",
       "        vertical-align: middle;\n",
       "    }\n",
       "\n",
       "    .dataframe tbody tr th {\n",
       "        vertical-align: top;\n",
       "    }\n",
       "\n",
       "    .dataframe thead th {\n",
       "        text-align: right;\n",
       "    }\n",
       "</style>\n",
       "<table border=\"1\" class=\"dataframe\">\n",
       "  <thead>\n",
       "    <tr style=\"text-align: right;\">\n",
       "      <th></th>\n",
       "      <th>FECHA</th>\n",
       "      <th>DESC_CATEGORIA</th>\n",
       "      <th>ID_ARTICULO</th>\n",
       "      <th>DESC_ARTICULO</th>\n",
       "      <th>PRECIO_mn</th>\n",
       "      <th>INVENTARIO_mn</th>\n",
       "      <th>VENTA_AVG_UNIDADES_mn</th>\n",
       "      <th>order_date</th>\n",
       "      <th>internal_id</th>\n",
       "      <th>unit_price_mn</th>\n",
       "      <th>total_price_mn</th>\n",
       "      <th>units_sold_sum</th>\n",
       "    </tr>\n",
       "  </thead>\n",
       "  <tbody>\n",
       "    <tr>\n",
       "      <th>0</th>\n",
       "      <td>2020-03-26</td>\n",
       "      <td>Abarrotes Comestibles</td>\n",
       "      <td>100061762</td>\n",
       "      <td>MCCORMICK MERMEL FRESA 270GR</td>\n",
       "      <td>27.5</td>\n",
       "      <td>3.888889</td>\n",
       "      <td>0.134911</td>\n",
       "      <td>2020-03-26</td>\n",
       "      <td>100061762</td>\n",
       "      <td>30.250000</td>\n",
       "      <td>30.250000</td>\n",
       "      <td>1.0</td>\n",
       "    </tr>\n",
       "    <tr>\n",
       "      <th>1</th>\n",
       "      <td>2020-03-26</td>\n",
       "      <td>Abarrotes Comestibles</td>\n",
       "      <td>100062241</td>\n",
       "      <td>KARO MIEL MAPLE 250ML</td>\n",
       "      <td>29.0</td>\n",
       "      <td>3.444444</td>\n",
       "      <td>0.111100</td>\n",
       "      <td>2020-03-26</td>\n",
       "      <td>100062241</td>\n",
       "      <td>31.900000</td>\n",
       "      <td>31.900000</td>\n",
       "      <td>2.0</td>\n",
       "    </tr>\n",
       "    <tr>\n",
       "      <th>2</th>\n",
       "      <td>2020-03-26</td>\n",
       "      <td>Abarrotes Comestibles</td>\n",
       "      <td>100062396</td>\n",
       "      <td>KNORR SOPA E FIDEO 95GR</td>\n",
       "      <td>13.5</td>\n",
       "      <td>4.090909</td>\n",
       "      <td>0.224018</td>\n",
       "      <td>2020-03-26</td>\n",
       "      <td>100062396</td>\n",
       "      <td>13.500000</td>\n",
       "      <td>27.000000</td>\n",
       "      <td>2.0</td>\n",
       "    </tr>\n",
       "    <tr>\n",
       "      <th>3</th>\n",
       "      <td>2020-03-26</td>\n",
       "      <td>Abarrotes Comestibles</td>\n",
       "      <td>100190255</td>\n",
       "      <td>MARUCHAN SOPAS CAMARON 64GR</td>\n",
       "      <td>15.0</td>\n",
       "      <td>24.181818</td>\n",
       "      <td>1.194791</td>\n",
       "      <td>2020-03-26</td>\n",
       "      <td>100190255</td>\n",
       "      <td>16.285714</td>\n",
       "      <td>25.642857</td>\n",
       "      <td>22.0</td>\n",
       "    </tr>\n",
       "    <tr>\n",
       "      <th>4</th>\n",
       "      <td>2020-03-26</td>\n",
       "      <td>Abarrotes No Comestibles</td>\n",
       "      <td>100009644</td>\n",
       "      <td>WHISKAS CARNE RECETA ORIGINAL 700GR</td>\n",
       "      <td>52.0</td>\n",
       "      <td>5.100000</td>\n",
       "      <td>0.196430</td>\n",
       "      <td>2020-03-26</td>\n",
       "      <td>100009644</td>\n",
       "      <td>54.600000</td>\n",
       "      <td>54.600000</td>\n",
       "      <td>2.0</td>\n",
       "    </tr>\n",
       "  </tbody>\n",
       "</table>\n",
       "</div>"
      ],
      "text/plain": [
       "        FECHA            DESC_CATEGORIA ID_ARTICULO  \\\n",
       "0  2020-03-26     Abarrotes Comestibles   100061762   \n",
       "1  2020-03-26     Abarrotes Comestibles   100062241   \n",
       "2  2020-03-26     Abarrotes Comestibles   100062396   \n",
       "3  2020-03-26     Abarrotes Comestibles   100190255   \n",
       "4  2020-03-26  Abarrotes No Comestibles   100009644   \n",
       "\n",
       "                         DESC_ARTICULO  PRECIO_mn  INVENTARIO_mn  \\\n",
       "0         MCCORMICK MERMEL FRESA 270GR       27.5       3.888889   \n",
       "1                KARO MIEL MAPLE 250ML       29.0       3.444444   \n",
       "2              KNORR SOPA E FIDEO 95GR       13.5       4.090909   \n",
       "3          MARUCHAN SOPAS CAMARON 64GR       15.0      24.181818   \n",
       "4  WHISKAS CARNE RECETA ORIGINAL 700GR       52.0       5.100000   \n",
       "\n",
       "   VENTA_AVG_UNIDADES_mn  order_date internal_id  unit_price_mn  \\\n",
       "0               0.134911  2020-03-26   100061762      30.250000   \n",
       "1               0.111100  2020-03-26   100062241      31.900000   \n",
       "2               0.224018  2020-03-26   100062396      13.500000   \n",
       "3               1.194791  2020-03-26   100190255      16.285714   \n",
       "4               0.196430  2020-03-26   100009644      54.600000   \n",
       "\n",
       "   total_price_mn  units_sold_sum  \n",
       "0       30.250000             1.0  \n",
       "1       31.900000             2.0  \n",
       "2       27.000000             2.0  \n",
       "3       25.642857            22.0  \n",
       "4       54.600000             2.0  "
      ]
     },
     "execution_count": 22,
     "metadata": {},
     "output_type": "execute_result"
    }
   ],
   "source": [
    "df = Stores_data.merge(STOT,how='inner',left_on=['FECHA','ID_ARTICULO'],right_on=['order_date','internal_id'])\n",
    "print(df.shape)\n",
    "\n",
    "df.head()"
   ]
  },
  {
   "cell_type": "code",
   "execution_count": 23,
   "metadata": {
    "ExecuteTime": {
     "end_time": "2020-07-20T03:27:12.897391Z",
     "start_time": "2020-07-20T03:27:12.892846Z"
    }
   },
   "outputs": [],
   "source": [
    "df.drop(columns = ['ID_ARTICULO','order_date'],inplace=True)"
   ]
  },
  {
   "cell_type": "code",
   "execution_count": 24,
   "metadata": {
    "ExecuteTime": {
     "end_time": "2020-07-20T03:27:14.423591Z",
     "start_time": "2020-07-20T03:27:14.395092Z"
    }
   },
   "outputs": [
    {
     "data": {
      "text/html": [
       "<div>\n",
       "<style scoped>\n",
       "    .dataframe tbody tr th:only-of-type {\n",
       "        vertical-align: middle;\n",
       "    }\n",
       "\n",
       "    .dataframe tbody tr th {\n",
       "        vertical-align: top;\n",
       "    }\n",
       "\n",
       "    .dataframe thead th {\n",
       "        text-align: right;\n",
       "    }\n",
       "</style>\n",
       "<table border=\"1\" class=\"dataframe\">\n",
       "  <thead>\n",
       "    <tr style=\"text-align: right;\">\n",
       "      <th></th>\n",
       "      <th>PRECIO_mn</th>\n",
       "      <th>INVENTARIO_mn</th>\n",
       "      <th>VENTA_AVG_UNIDADES_mn</th>\n",
       "      <th>unit_price_mn</th>\n",
       "      <th>total_price_mn</th>\n",
       "      <th>units_sold_sum</th>\n",
       "    </tr>\n",
       "  </thead>\n",
       "  <tbody>\n",
       "    <tr>\n",
       "      <th>count</th>\n",
       "      <td>401.000000</td>\n",
       "      <td>401.000000</td>\n",
       "      <td>401.000000</td>\n",
       "      <td>401.000000</td>\n",
       "      <td>401.000000</td>\n",
       "      <td>401.000000</td>\n",
       "    </tr>\n",
       "    <tr>\n",
       "      <th>mean</th>\n",
       "      <td>58.648856</td>\n",
       "      <td>27.676387</td>\n",
       "      <td>2.369644</td>\n",
       "      <td>62.570673</td>\n",
       "      <td>83.917632</td>\n",
       "      <td>48.528678</td>\n",
       "    </tr>\n",
       "    <tr>\n",
       "      <th>std</th>\n",
       "      <td>66.559402</td>\n",
       "      <td>71.689623</td>\n",
       "      <td>5.990424</td>\n",
       "      <td>70.546836</td>\n",
       "      <td>84.362666</td>\n",
       "      <td>148.272131</td>\n",
       "    </tr>\n",
       "    <tr>\n",
       "      <th>min</th>\n",
       "      <td>6.500000</td>\n",
       "      <td>1.000000</td>\n",
       "      <td>0.005950</td>\n",
       "      <td>6.825000</td>\n",
       "      <td>6.825000</td>\n",
       "      <td>1.000000</td>\n",
       "    </tr>\n",
       "    <tr>\n",
       "      <th>25%</th>\n",
       "      <td>15.000000</td>\n",
       "      <td>4.400000</td>\n",
       "      <td>0.136364</td>\n",
       "      <td>16.350000</td>\n",
       "      <td>25.633333</td>\n",
       "      <td>2.000000</td>\n",
       "    </tr>\n",
       "    <tr>\n",
       "      <th>50%</th>\n",
       "      <td>25.000000</td>\n",
       "      <td>8.800000</td>\n",
       "      <td>0.276775</td>\n",
       "      <td>27.750000</td>\n",
       "      <td>46.250000</td>\n",
       "      <td>7.000000</td>\n",
       "    </tr>\n",
       "    <tr>\n",
       "      <th>75%</th>\n",
       "      <td>63.363636</td>\n",
       "      <td>15.000000</td>\n",
       "      <td>0.839290</td>\n",
       "      <td>68.306667</td>\n",
       "      <td>122.100000</td>\n",
       "      <td>24.000000</td>\n",
       "    </tr>\n",
       "    <tr>\n",
       "      <th>max</th>\n",
       "      <td>235.000000</td>\n",
       "      <td>462.727273</td>\n",
       "      <td>30.003245</td>\n",
       "      <td>259.000000</td>\n",
       "      <td>470.000000</td>\n",
       "      <td>1005.000000</td>\n",
       "    </tr>\n",
       "  </tbody>\n",
       "</table>\n",
       "</div>"
      ],
      "text/plain": [
       "        PRECIO_mn  INVENTARIO_mn  VENTA_AVG_UNIDADES_mn  unit_price_mn  \\\n",
       "count  401.000000     401.000000             401.000000     401.000000   \n",
       "mean    58.648856      27.676387               2.369644      62.570673   \n",
       "std     66.559402      71.689623               5.990424      70.546836   \n",
       "min      6.500000       1.000000               0.005950       6.825000   \n",
       "25%     15.000000       4.400000               0.136364      16.350000   \n",
       "50%     25.000000       8.800000               0.276775      27.750000   \n",
       "75%     63.363636      15.000000               0.839290      68.306667   \n",
       "max    235.000000     462.727273              30.003245     259.000000   \n",
       "\n",
       "       total_price_mn  units_sold_sum  \n",
       "count      401.000000      401.000000  \n",
       "mean        83.917632       48.528678  \n",
       "std         84.362666      148.272131  \n",
       "min          6.825000        1.000000  \n",
       "25%         25.633333        2.000000  \n",
       "50%         46.250000        7.000000  \n",
       "75%        122.100000       24.000000  \n",
       "max        470.000000     1005.000000  "
      ]
     },
     "execution_count": 24,
     "metadata": {},
     "output_type": "execute_result"
    }
   ],
   "source": [
    "df.describe()"
   ]
  },
  {
   "cell_type": "code",
   "execution_count": 25,
   "metadata": {
    "ExecuteTime": {
     "end_time": "2020-07-20T03:27:21.820934Z",
     "start_time": "2020-07-20T03:27:21.806447Z"
    }
   },
   "outputs": [
    {
     "data": {
      "text/html": [
       "<div>\n",
       "<style scoped>\n",
       "    .dataframe tbody tr th:only-of-type {\n",
       "        vertical-align: middle;\n",
       "    }\n",
       "\n",
       "    .dataframe tbody tr th {\n",
       "        vertical-align: top;\n",
       "    }\n",
       "\n",
       "    .dataframe thead th {\n",
       "        text-align: right;\n",
       "    }\n",
       "</style>\n",
       "<table border=\"1\" class=\"dataframe\">\n",
       "  <thead>\n",
       "    <tr style=\"text-align: right;\">\n",
       "      <th></th>\n",
       "      <th>FECHA</th>\n",
       "      <th>DESC_CATEGORIA</th>\n",
       "      <th>DESC_ARTICULO</th>\n",
       "      <th>PRECIO_mn</th>\n",
       "      <th>INVENTARIO_mn</th>\n",
       "      <th>VENTA_AVG_UNIDADES_mn</th>\n",
       "      <th>internal_id</th>\n",
       "      <th>unit_price_mn</th>\n",
       "      <th>total_price_mn</th>\n",
       "      <th>units_sold_sum</th>\n",
       "    </tr>\n",
       "  </thead>\n",
       "  <tbody>\n",
       "    <tr>\n",
       "      <th>0</th>\n",
       "      <td>2020-03-26</td>\n",
       "      <td>Abarrotes Comestibles</td>\n",
       "      <td>MCCORMICK MERMEL FRESA 270GR</td>\n",
       "      <td>27.5</td>\n",
       "      <td>3.888889</td>\n",
       "      <td>0.134911</td>\n",
       "      <td>100061762</td>\n",
       "      <td>30.250000</td>\n",
       "      <td>30.250000</td>\n",
       "      <td>1.0</td>\n",
       "    </tr>\n",
       "    <tr>\n",
       "      <th>1</th>\n",
       "      <td>2020-03-26</td>\n",
       "      <td>Abarrotes Comestibles</td>\n",
       "      <td>KARO MIEL MAPLE 250ML</td>\n",
       "      <td>29.0</td>\n",
       "      <td>3.444444</td>\n",
       "      <td>0.111100</td>\n",
       "      <td>100062241</td>\n",
       "      <td>31.900000</td>\n",
       "      <td>31.900000</td>\n",
       "      <td>2.0</td>\n",
       "    </tr>\n",
       "    <tr>\n",
       "      <th>2</th>\n",
       "      <td>2020-03-26</td>\n",
       "      <td>Abarrotes Comestibles</td>\n",
       "      <td>KNORR SOPA E FIDEO 95GR</td>\n",
       "      <td>13.5</td>\n",
       "      <td>4.090909</td>\n",
       "      <td>0.224018</td>\n",
       "      <td>100062396</td>\n",
       "      <td>13.500000</td>\n",
       "      <td>27.000000</td>\n",
       "      <td>2.0</td>\n",
       "    </tr>\n",
       "    <tr>\n",
       "      <th>3</th>\n",
       "      <td>2020-03-26</td>\n",
       "      <td>Abarrotes Comestibles</td>\n",
       "      <td>MARUCHAN SOPAS CAMARON 64GR</td>\n",
       "      <td>15.0</td>\n",
       "      <td>24.181818</td>\n",
       "      <td>1.194791</td>\n",
       "      <td>100190255</td>\n",
       "      <td>16.285714</td>\n",
       "      <td>25.642857</td>\n",
       "      <td>22.0</td>\n",
       "    </tr>\n",
       "    <tr>\n",
       "      <th>4</th>\n",
       "      <td>2020-03-26</td>\n",
       "      <td>Abarrotes No Comestibles</td>\n",
       "      <td>WHISKAS CARNE RECETA ORIGINAL 700GR</td>\n",
       "      <td>52.0</td>\n",
       "      <td>5.100000</td>\n",
       "      <td>0.196430</td>\n",
       "      <td>100009644</td>\n",
       "      <td>54.600000</td>\n",
       "      <td>54.600000</td>\n",
       "      <td>2.0</td>\n",
       "    </tr>\n",
       "  </tbody>\n",
       "</table>\n",
       "</div>"
      ],
      "text/plain": [
       "        FECHA            DESC_CATEGORIA                        DESC_ARTICULO  \\\n",
       "0  2020-03-26     Abarrotes Comestibles         MCCORMICK MERMEL FRESA 270GR   \n",
       "1  2020-03-26     Abarrotes Comestibles                KARO MIEL MAPLE 250ML   \n",
       "2  2020-03-26     Abarrotes Comestibles              KNORR SOPA E FIDEO 95GR   \n",
       "3  2020-03-26     Abarrotes Comestibles          MARUCHAN SOPAS CAMARON 64GR   \n",
       "4  2020-03-26  Abarrotes No Comestibles  WHISKAS CARNE RECETA ORIGINAL 700GR   \n",
       "\n",
       "   PRECIO_mn  INVENTARIO_mn  VENTA_AVG_UNIDADES_mn internal_id  unit_price_mn  \\\n",
       "0       27.5       3.888889               0.134911   100061762      30.250000   \n",
       "1       29.0       3.444444               0.111100   100062241      31.900000   \n",
       "2       13.5       4.090909               0.224018   100062396      13.500000   \n",
       "3       15.0      24.181818               1.194791   100190255      16.285714   \n",
       "4       52.0       5.100000               0.196430   100009644      54.600000   \n",
       "\n",
       "   total_price_mn  units_sold_sum  \n",
       "0       30.250000             1.0  \n",
       "1       31.900000             2.0  \n",
       "2       27.000000             2.0  \n",
       "3       25.642857            22.0  \n",
       "4       54.600000             2.0  "
      ]
     },
     "execution_count": 25,
     "metadata": {},
     "output_type": "execute_result"
    }
   ],
   "source": [
    "df.head()"
   ]
  },
  {
   "cell_type": "markdown",
   "metadata": {},
   "source": [
    "## Clustering"
   ]
  },
  {
   "cell_type": "code",
   "execution_count": 26,
   "metadata": {
    "ExecuteTime": {
     "end_time": "2020-07-20T03:27:32.376449Z",
     "start_time": "2020-07-20T03:27:32.300063Z"
    },
    "cell_style": "split"
   },
   "outputs": [],
   "source": [
    "Target = [v for v in df.describe()]\n",
    "Target = df[Target]\n",
    "lst_in = []\n",
    "for v in range(2,5):\n",
    "    cl = KMeans(n_clusters=v)\n",
    "    cl.fit(Target)\n",
    "    lst_in.append(cl.inertia_)"
   ]
  },
  {
   "cell_type": "code",
   "execution_count": 27,
   "metadata": {
    "ExecuteTime": {
     "end_time": "2020-07-20T03:27:33.689067Z",
     "start_time": "2020-07-20T03:27:33.544920Z"
    },
    "cell_style": "split"
   },
   "outputs": [
    {
     "data": {
      "text/plain": [
       "[<matplotlib.lines.Line2D at 0x137effad0>]"
      ]
     },
     "execution_count": 27,
     "metadata": {},
     "output_type": "execute_result"
    },
    {
     "data": {
      "image/png": "[encoded data removed]",
      "text/plain": [
       "<Figure size 432x288 with 1 Axes>"
      ]
     },
     "metadata": {
      "needs_background": "light"
     },
     "output_type": "display_data"
    }
   ],
   "source": [
    "plt.plot(range(2,5),lst_in,marker='o')"
   ]
  },
  {
   "cell_type": "code",
   "execution_count": 28,
   "metadata": {
    "ExecuteTime": {
     "end_time": "2020-07-20T03:27:42.301939Z",
     "start_time": "2020-07-20T03:27:42.285264Z"
    },
    "cell_style": "center"
   },
   "outputs": [],
   "source": [
    "#Fit model\n",
    "cl = GaussianMixture(n_components=3)\n",
    "cl.fit(Target)\n",
    "#Pass cl to df\n",
    "df['cl'] = cl.predict(Target)"
   ]
  },
  {
   "cell_type": "code",
   "execution_count": 29,
   "metadata": {
    "ExecuteTime": {
     "end_time": "2020-07-20T03:27:43.777312Z",
     "start_time": "2020-07-20T03:27:43.760734Z"
    }
   },
   "outputs": [
    {
     "data": {
      "text/html": [
       "<div>\n",
       "<style scoped>\n",
       "    .dataframe tbody tr th:only-of-type {\n",
       "        vertical-align: middle;\n",
       "    }\n",
       "\n",
       "    .dataframe tbody tr th {\n",
       "        vertical-align: top;\n",
       "    }\n",
       "\n",
       "    .dataframe thead th {\n",
       "        text-align: right;\n",
       "    }\n",
       "</style>\n",
       "<table border=\"1\" class=\"dataframe\">\n",
       "  <thead>\n",
       "    <tr style=\"text-align: right;\">\n",
       "      <th></th>\n",
       "      <th>FECHA</th>\n",
       "      <th>DESC_CATEGORIA</th>\n",
       "      <th>DESC_ARTICULO</th>\n",
       "      <th>PRECIO_mn</th>\n",
       "      <th>INVENTARIO_mn</th>\n",
       "      <th>VENTA_AVG_UNIDADES_mn</th>\n",
       "      <th>internal_id</th>\n",
       "      <th>unit_price_mn</th>\n",
       "      <th>total_price_mn</th>\n",
       "      <th>units_sold_sum</th>\n",
       "      <th>cl</th>\n",
       "    </tr>\n",
       "  </thead>\n",
       "  <tbody>\n",
       "    <tr>\n",
       "      <th>0</th>\n",
       "      <td>2020-03-26</td>\n",
       "      <td>Abarrotes Comestibles</td>\n",
       "      <td>MCCORMICK MERMEL FRESA 270GR</td>\n",
       "      <td>27.500000</td>\n",
       "      <td>3.888889</td>\n",
       "      <td>0.134911</td>\n",
       "      <td>100061762</td>\n",
       "      <td>30.250000</td>\n",
       "      <td>30.250000</td>\n",
       "      <td>1.0</td>\n",
       "      <td>0</td>\n",
       "    </tr>\n",
       "    <tr>\n",
       "      <th>1</th>\n",
       "      <td>2020-03-26</td>\n",
       "      <td>Abarrotes Comestibles</td>\n",
       "      <td>KARO MIEL MAPLE 250ML</td>\n",
       "      <td>29.000000</td>\n",
       "      <td>3.444444</td>\n",
       "      <td>0.111100</td>\n",
       "      <td>100062241</td>\n",
       "      <td>31.900000</td>\n",
       "      <td>31.900000</td>\n",
       "      <td>2.0</td>\n",
       "      <td>0</td>\n",
       "    </tr>\n",
       "    <tr>\n",
       "      <th>2</th>\n",
       "      <td>2020-03-26</td>\n",
       "      <td>Abarrotes Comestibles</td>\n",
       "      <td>KNORR SOPA E FIDEO 95GR</td>\n",
       "      <td>13.500000</td>\n",
       "      <td>4.090909</td>\n",
       "      <td>0.224018</td>\n",
       "      <td>100062396</td>\n",
       "      <td>13.500000</td>\n",
       "      <td>27.000000</td>\n",
       "      <td>2.0</td>\n",
       "      <td>1</td>\n",
       "    </tr>\n",
       "    <tr>\n",
       "      <th>3</th>\n",
       "      <td>2020-03-26</td>\n",
       "      <td>Abarrotes Comestibles</td>\n",
       "      <td>MARUCHAN SOPAS CAMARON 64GR</td>\n",
       "      <td>15.000000</td>\n",
       "      <td>24.181818</td>\n",
       "      <td>1.194791</td>\n",
       "      <td>100190255</td>\n",
       "      <td>16.285714</td>\n",
       "      <td>25.642857</td>\n",
       "      <td>22.0</td>\n",
       "      <td>0</td>\n",
       "    </tr>\n",
       "    <tr>\n",
       "      <th>4</th>\n",
       "      <td>2020-03-26</td>\n",
       "      <td>Abarrotes No Comestibles</td>\n",
       "      <td>WHISKAS CARNE RECETA ORIGINAL 700GR</td>\n",
       "      <td>52.000000</td>\n",
       "      <td>5.100000</td>\n",
       "      <td>0.196430</td>\n",
       "      <td>100009644</td>\n",
       "      <td>54.600000</td>\n",
       "      <td>54.600000</td>\n",
       "      <td>2.0</td>\n",
       "      <td>1</td>\n",
       "    </tr>\n",
       "    <tr>\n",
       "      <th>5</th>\n",
       "      <td>2020-03-26</td>\n",
       "      <td>Aguas</td>\n",
       "      <td>LEVITE PEPINO LIMON 1500M\\t\\t\\t\\t\\t\\t\\t\\t\\t</td>\n",
       "      <td>23.000000</td>\n",
       "      <td>11.500000</td>\n",
       "      <td>0.276800</td>\n",
       "      <td>100013445</td>\n",
       "      <td>24.150000</td>\n",
       "      <td>35.650000</td>\n",
       "      <td>3.0</td>\n",
       "      <td>0</td>\n",
       "    </tr>\n",
       "    <tr>\n",
       "      <th>6</th>\n",
       "      <td>2020-03-26</td>\n",
       "      <td>Aguas</td>\n",
       "      <td>BONAFONT AGUA P PET 1.5LT</td>\n",
       "      <td>15.818182</td>\n",
       "      <td>74.636364</td>\n",
       "      <td>12.620136</td>\n",
       "      <td>100290812</td>\n",
       "      <td>17.327778</td>\n",
       "      <td>34.938889</td>\n",
       "      <td>18.0</td>\n",
       "      <td>0</td>\n",
       "    </tr>\n",
       "    <tr>\n",
       "      <th>7</th>\n",
       "      <td>2020-03-26</td>\n",
       "      <td>Botanas</td>\n",
       "      <td>CHIPS PAPAS SAL 170GR</td>\n",
       "      <td>45.000000</td>\n",
       "      <td>9.200000</td>\n",
       "      <td>0.814290</td>\n",
       "      <td>100160145</td>\n",
       "      <td>49.082885</td>\n",
       "      <td>54.575385</td>\n",
       "      <td>58.0</td>\n",
       "      <td>0</td>\n",
       "    </tr>\n",
       "    <tr>\n",
       "      <th>8</th>\n",
       "      <td>2020-03-26</td>\n",
       "      <td>Botanas</td>\n",
       "      <td>SABRITAS PAPAS SAL 240GR</td>\n",
       "      <td>68.500000</td>\n",
       "      <td>11.666667</td>\n",
       "      <td>0.646811</td>\n",
       "      <td>100164564</td>\n",
       "      <td>72.078125</td>\n",
       "      <td>90.465625</td>\n",
       "      <td>20.0</td>\n",
       "      <td>1</td>\n",
       "    </tr>\n",
       "    <tr>\n",
       "      <th>9</th>\n",
       "      <td>2020-03-26</td>\n",
       "      <td>Botanas</td>\n",
       "      <td>PRINGLES PAPAS QUESO 40GR</td>\n",
       "      <td>18.000000</td>\n",
       "      <td>12.800000</td>\n",
       "      <td>0.128570</td>\n",
       "      <td>100164604</td>\n",
       "      <td>19.200000</td>\n",
       "      <td>32.400000</td>\n",
       "      <td>5.0</td>\n",
       "      <td>0</td>\n",
       "    </tr>\n",
       "  </tbody>\n",
       "</table>\n",
       "</div>"
      ],
      "text/plain": [
       "        FECHA            DESC_CATEGORIA  \\\n",
       "0  2020-03-26     Abarrotes Comestibles   \n",
       "1  2020-03-26     Abarrotes Comestibles   \n",
       "2  2020-03-26     Abarrotes Comestibles   \n",
       "3  2020-03-26     Abarrotes Comestibles   \n",
       "4  2020-03-26  Abarrotes No Comestibles   \n",
       "5  2020-03-26                     Aguas   \n",
       "6  2020-03-26                     Aguas   \n",
       "7  2020-03-26                   Botanas   \n",
       "8  2020-03-26                   Botanas   \n",
       "9  2020-03-26                   Botanas   \n",
       "\n",
       "                                 DESC_ARTICULO  PRECIO_mn  INVENTARIO_mn  \\\n",
       "0                 MCCORMICK MERMEL FRESA 270GR  27.500000       3.888889   \n",
       "1                        KARO MIEL MAPLE 250ML  29.000000       3.444444   \n",
       "2                      KNORR SOPA E FIDEO 95GR  13.500000       4.090909   \n",
       "3                  MARUCHAN SOPAS CAMARON 64GR  15.000000      24.181818   \n",
       "4          WHISKAS CARNE RECETA ORIGINAL 700GR  52.000000       5.100000   \n",
       "5  LEVITE PEPINO LIMON 1500M\\t\\t\\t\\t\\t\\t\\t\\t\\t  23.000000      11.500000   \n",
       "6                    BONAFONT AGUA P PET 1.5LT  15.818182      74.636364   \n",
       "7                        CHIPS PAPAS SAL 170GR  45.000000       9.200000   \n",
       "8                     SABRITAS PAPAS SAL 240GR  68.500000      11.666667   \n",
       "9                    PRINGLES PAPAS QUESO 40GR  18.000000      12.800000   \n",
       "\n",
       "   VENTA_AVG_UNIDADES_mn internal_id  unit_price_mn  total_price_mn  \\\n",
       "0               0.134911   100061762      30.250000       30.250000   \n",
       "1               0.111100   100062241      31.900000       31.900000   \n",
       "2               0.224018   100062396      13.500000       27.000000   \n",
       "3               1.194791   100190255      16.285714       25.642857   \n",
       "4               0.196430   100009644      54.600000       54.600000   \n",
       "5               0.276800   100013445      24.150000       35.650000   \n",
       "6              12.620136   100290812      17.327778       34.938889   \n",
       "7               0.814290   100160145      49.082885       54.575385   \n",
       "8               0.646811   100164564      72.078125       90.465625   \n",
       "9               0.128570   100164604      19.200000       32.400000   \n",
       "\n",
       "   units_sold_sum  cl  \n",
       "0             1.0   0  \n",
       "1             2.0   0  \n",
       "2             2.0   1  \n",
       "3            22.0   0  \n",
       "4             2.0   1  \n",
       "5             3.0   0  \n",
       "6            18.0   0  \n",
       "7            58.0   0  \n",
       "8            20.0   1  \n",
       "9             5.0   0  "
      ]
     },
     "execution_count": 29,
     "metadata": {},
     "output_type": "execute_result"
    }
   ],
   "source": [
    "df.head(10)"
   ]
  },
  {
   "cell_type": "code",
   "execution_count": 30,
   "metadata": {
    "ExecuteTime": {
     "end_time": "2020-07-20T03:27:51.802038Z",
     "start_time": "2020-07-20T03:27:51.789662Z"
    },
    "cell_style": "center"
   },
   "outputs": [
    {
     "data": {
      "text/html": [
       "<div>\n",
       "<style scoped>\n",
       "    .dataframe tbody tr th:only-of-type {\n",
       "        vertical-align: middle;\n",
       "    }\n",
       "\n",
       "    .dataframe tbody tr th {\n",
       "        vertical-align: top;\n",
       "    }\n",
       "\n",
       "    .dataframe thead th {\n",
       "        text-align: right;\n",
       "    }\n",
       "</style>\n",
       "<table border=\"1\" class=\"dataframe\">\n",
       "  <thead>\n",
       "    <tr style=\"text-align: right;\">\n",
       "      <th></th>\n",
       "      <th>PRECIO_mn</th>\n",
       "      <th>INVENTARIO_mn</th>\n",
       "      <th>VENTA_AVG_UNIDADES_mn</th>\n",
       "      <th>unit_price_mn</th>\n",
       "      <th>total_price_mn</th>\n",
       "      <th>units_sold_sum</th>\n",
       "    </tr>\n",
       "    <tr>\n",
       "      <th>cl</th>\n",
       "      <th></th>\n",
       "      <th></th>\n",
       "      <th></th>\n",
       "      <th></th>\n",
       "      <th></th>\n",
       "      <th></th>\n",
       "    </tr>\n",
       "  </thead>\n",
       "  <tbody>\n",
       "    <tr>\n",
       "      <th>0</th>\n",
       "      <td>20.196119</td>\n",
       "      <td>18.757255</td>\n",
       "      <td>1.969265</td>\n",
       "      <td>21.846603</td>\n",
       "      <td>34.475798</td>\n",
       "      <td>22.236287</td>\n",
       "    </tr>\n",
       "    <tr>\n",
       "      <th>1</th>\n",
       "      <td>119.338391</td>\n",
       "      <td>6.734337</td>\n",
       "      <td>0.304716</td>\n",
       "      <td>126.807031</td>\n",
       "      <td>155.066430</td>\n",
       "      <td>17.496644</td>\n",
       "    </tr>\n",
       "    <tr>\n",
       "      <th>2</th>\n",
       "      <td>63.352727</td>\n",
       "      <td>376.623030</td>\n",
       "      <td>29.207255</td>\n",
       "      <td>67.929829</td>\n",
       "      <td>158.353876</td>\n",
       "      <td>772.200000</td>\n",
       "    </tr>\n",
       "  </tbody>\n",
       "</table>\n",
       "</div>"
      ],
      "text/plain": [
       "     PRECIO_mn  INVENTARIO_mn  VENTA_AVG_UNIDADES_mn  unit_price_mn  \\\n",
       "cl                                                                    \n",
       "0    20.196119      18.757255               1.969265      21.846603   \n",
       "1   119.338391       6.734337               0.304716     126.807031   \n",
       "2    63.352727     376.623030              29.207255      67.929829   \n",
       "\n",
       "    total_price_mn  units_sold_sum  \n",
       "cl                                  \n",
       "0        34.475798       22.236287  \n",
       "1       155.066430       17.496644  \n",
       "2       158.353876      772.200000  "
      ]
     },
     "execution_count": 30,
     "metadata": {},
     "output_type": "execute_result"
    }
   ],
   "source": [
    "df.groupby('cl').mean()"
   ]
  },
  {
   "cell_type": "code",
   "execution_count": 31,
   "metadata": {
    "ExecuteTime": {
     "end_time": "2020-07-20T03:27:54.300286Z",
     "start_time": "2020-07-20T03:27:54.281565Z"
    }
   },
   "outputs": [
    {
     "data": {
      "text/html": [
       "<div>\n",
       "<style scoped>\n",
       "    .dataframe tbody tr th:only-of-type {\n",
       "        vertical-align: middle;\n",
       "    }\n",
       "\n",
       "    .dataframe tbody tr th {\n",
       "        vertical-align: top;\n",
       "    }\n",
       "\n",
       "    .dataframe thead th {\n",
       "        text-align: right;\n",
       "    }\n",
       "</style>\n",
       "<table border=\"1\" class=\"dataframe\">\n",
       "  <thead>\n",
       "    <tr style=\"text-align: right;\">\n",
       "      <th></th>\n",
       "      <th>PRECIO_mn</th>\n",
       "      <th>INVENTARIO_mn</th>\n",
       "      <th>VENTA_AVG_UNIDADES_mn</th>\n",
       "      <th>internal_id</th>\n",
       "      <th>unit_price_mn</th>\n",
       "      <th>total_price_mn</th>\n",
       "      <th>units_sold_sum</th>\n",
       "      <th>cl</th>\n",
       "    </tr>\n",
       "  </thead>\n",
       "  <tbody>\n",
       "    <tr>\n",
       "      <th>0</th>\n",
       "      <td>58.648856</td>\n",
       "      <td>27.676387</td>\n",
       "      <td>2.369644</td>\n",
       "      <td>inf</td>\n",
       "      <td>62.570673</td>\n",
       "      <td>83.917632</td>\n",
       "      <td>48.528678</td>\n",
       "      <td>0.446384</td>\n",
       "    </tr>\n",
       "  </tbody>\n",
       "</table>\n",
       "</div>"
      ],
      "text/plain": [
       "   PRECIO_mn  INVENTARIO_mn  VENTA_AVG_UNIDADES_mn  internal_id  \\\n",
       "0  58.648856      27.676387               2.369644          inf   \n",
       "\n",
       "   unit_price_mn  total_price_mn  units_sold_sum        cl  \n",
       "0      62.570673       83.917632       48.528678  0.446384  "
      ]
     },
     "execution_count": 31,
     "metadata": {},
     "output_type": "execute_result"
    }
   ],
   "source": [
    "pd.DataFrame(df.mean()).T"
   ]
  },
  {
   "cell_type": "code",
   "execution_count": 32,
   "metadata": {
    "ExecuteTime": {
     "end_time": "2020-07-20T03:28:14.711074Z",
     "start_time": "2020-07-20T03:28:14.704011Z"
    },
    "cell_style": "split",
    "scrolled": true
   },
   "outputs": [
    {
     "data": {
      "text/plain": [
       "Abarrotes Comestibles       55\n",
       "Botanas                     43\n",
       "Dulces                      41\n",
       "Aguas                       39\n",
       "Otros                       30\n",
       "Cerveza                     13\n",
       "Vinos y Licores              8\n",
       "Abarrotes No Comestibles     7\n",
       "Café                         1\n",
       "Name: DESC_CATEGORIA, dtype: int64"
      ]
     },
     "execution_count": 32,
     "metadata": {},
     "output_type": "execute_result"
    }
   ],
   "source": [
    "df.loc[df.cl == 0].DESC_CATEGORIA.value_counts()"
   ]
  },
  {
   "cell_type": "code",
   "execution_count": 33,
   "metadata": {
    "ExecuteTime": {
     "end_time": "2020-07-20T03:28:15.359310Z",
     "start_time": "2020-07-20T03:28:15.352486Z"
    },
    "cell_style": "split"
   },
   "outputs": [
    {
     "data": {
      "text/plain": [
       "Cerveza                     48\n",
       "Vinos y Licores             39\n",
       "Abarrotes Comestibles       17\n",
       "Abarrotes No Comestibles    16\n",
       "Botanas                     15\n",
       "Aguas                       13\n",
       "Dulces                       1\n",
       "Name: DESC_CATEGORIA, dtype: int64"
      ]
     },
     "execution_count": 33,
     "metadata": {},
     "output_type": "execute_result"
    }
   ],
   "source": [
    "df.loc[df.cl == 1].DESC_CATEGORIA.value_counts()"
   ]
  },
  {
   "cell_type": "code",
   "execution_count": 34,
   "metadata": {
    "ExecuteTime": {
     "end_time": "2020-07-20T03:28:23.776293Z",
     "start_time": "2020-07-20T03:28:23.769818Z"
    },
    "cell_style": "center"
   },
   "outputs": [
    {
     "data": {
      "text/plain": [
       "Otros    15\n",
       "Name: DESC_CATEGORIA, dtype: int64"
      ]
     },
     "execution_count": 34,
     "metadata": {},
     "output_type": "execute_result"
    }
   ],
   "source": [
    "df.loc[df.cl == 2].DESC_CATEGORIA.value_counts()"
   ]
  },
  {
   "cell_type": "markdown",
   "metadata": {},
   "source": [
    "### Cluster profiling:"
   ]
  },
  {
   "cell_type": "markdown",
   "metadata": {},
   "source": [
    "#### Properties of each cluster:\n",
    "* **Cluster 0**:\n",
    "    * Lowest public prices.\n",
    "    * Low levels of stock. Could be because is a cluster with low rotation (Low sales per unit).\n",
    "    * This are cheap products (in comparative with the mean).\n",
    "    * Categories in this cluster are:\n",
    "      * Edible groceries. +++\n",
    "      * Snacks. +++\n",
    "      * sweetmeats. +++\n",
    "      * Water. +++\n",
    "      * Others. +++\n",
    "      * Beer. ++\n",
    "      * Wine and alcohol beverages. +\n",
    "      * Non edible groceries. +\n",
    "    \n",
    "This cluster comprehends all those products that have low prices, low rotation, like \"just an occasional thing\"\n",
    "At the same time, it's not necessary to have a high level of stock. We could use a stock rule of >=5 or in an aggresive way: >=0.\n",
    "    \n",
    "* **Cluster 1**:\n",
    "  * Highest public prices.\n",
    "  * Very low levels of stock. Could be because is a cluster with low rotation (Lowest sales per unit).\n",
    "      This kind of products have hardly a sell in a day. \n",
    "  * Sales of this kind of products usually represent a big sell (in comparative with the mean).\n",
    "  * Categories in this cluster are:\n",
    "      * Beer. +++\n",
    "      * Wine and alcohol beverages. +++\n",
    "      * Edible groceries. ++\n",
    "      * Non edible groceries. ++\n",
    "      * Snacks. ++\n",
    "      * Water. ++\n",
    "\n",
    "In a few words, this cluster comprehends products with very low rotation levels. Are expensive ones.\n",
    "At the same time, it's not necessary to have a high level of stock. We could use a stock rule of >=0.\n",
    "\n",
    "* **Cluster 2**:\n",
    "    * Very close prices to the mean. Around $65 pesos.\n",
    "    * Highest levels of stock. This products have the highest levels of rotation too.\n",
    "    * Sales of this kind of products usually represent a high amount (in comparative with the mean).\n",
    "    * Categories in this cluster are:\n",
    "        * Others. +++\n",
    "\n",
    "This is the most important cluster in my opinion. Because of the nature of it's rotation I would recommend to use a stronger stock rule: >=10 or >=7 in a very aggresive way. This cluster is full of products like cigarretes, newspaper, etc..."
   ]
  },
  {
   "cell_type": "markdown",
   "metadata": {},
   "source": [
    "#### So at this point we have knowlegde about our products and their sales behaviour. We have a better idea about the rules we want to stablish. Now we just need to get the optimal minimums (Securing our business but also not losing sale). "
   ]
  },
  {
   "cell_type": "code",
   "execution_count": null,
   "metadata": {},
   "outputs": [],
   "source": []
  }
 ],
 "metadata": {
  "kernelspec": {
   "display_name": "Python 3",
   "language": "python",
   "name": "python3"
  },
  "language_info": {
   "codemirror_mode": {
    "name": "ipython",
    "version": 3
   },
   "file_extension": ".py",
   "mimetype": "text/x-python",
   "name": "python",
   "nbconvert_exporter": "python",
   "pygments_lexer": "ipython3",
   "version": "3.7.6"
  }
 },
 "nbformat": 4,
 "nbformat_minor": 4
}
